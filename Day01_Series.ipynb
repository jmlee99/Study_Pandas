{
 "cells": [
  {
   "cell_type": "code",
   "execution_count": 5,
   "id": "e8d24555",
   "metadata": {},
   "outputs": [
    {
     "name": "stdout",
     "output_type": "stream",
     "text": [
      "       0    1    2    3               4\n",
      "0    5.1  3.5  1.4  0.2     Iris-setosa\n",
      "1    4.9  3.0  1.4  0.2     Iris-setosa\n",
      "2    4.7  3.2  1.3  0.2     Iris-setosa\n",
      "3    4.6  3.1  1.5  0.2     Iris-setosa\n",
      "4    5.0  3.6  1.4  0.2     Iris-setosa\n",
      "..   ...  ...  ...  ...             ...\n",
      "145  6.7  3.0  5.2  2.3  Iris-virginica\n",
      "146  6.3  2.5  5.0  1.9  Iris-virginica\n",
      "147  6.5  3.0  5.2  2.0  Iris-virginica\n",
      "148  6.2  3.4  5.4  2.3  Iris-virginica\n",
      "149  5.9  3.0  5.1  1.8  Iris-virginica\n",
      "\n",
      "[150 rows x 5 columns]\n"
     ]
    }
   ],
   "source": [
    "import numpy as np\n",
    "import pandas as pd\n",
    "\n",
    "url = 'https://archive.ics.uci.edu/ml/machine-learning-databases/iris/iris.data'\n",
    "iris_df = pd.read_csv(url, header = None)\n",
    "print(iris_df) # Dataframe은 항상 shape를 준다."
   ]
  },
  {
   "cell_type": "code",
   "execution_count": 20,
   "id": "054364da",
   "metadata": {},
   "outputs": [
    {
     "name": "stdout",
     "output_type": "stream",
     "text": [
      "a    10\n",
      "b    20\n",
      "c    30\n",
      "d    40\n",
      "Name: s2, dtype: int64\n",
      "x    10\n",
      "y    20\n",
      "z    30\n",
      "1    40\n",
      "Name: newname, dtype: int64\n"
     ]
    }
   ],
   "source": [
    "# Series는 인덱스를 포함하는 하나의 열이다.\n",
    "s1 = pd.Series([1,2,3,4,5, 'a', 'b'])\n",
    "s2 = pd.Series(np.array([10,20,30,40]), index = ['a', 'b', 'c', 'd'], name = 's2') # pandas는 인덱스를 바꿀 수 있다. , 이름도 줄 수 있다./\n",
    "#print(s1)\n",
    "print(s2)\n",
    "s2.index = list('xyz1')\n",
    "s2.name = 'newname'\n",
    "print(s2)\n",
    "\n",
    "#print(s2.index)\n",
    "#print(s2.astype(np.float64))\n",
    "#for i in s2.index:\n",
    "#    print(i)"
   ]
  },
  {
   "cell_type": "code",
   "execution_count": 27,
   "id": "09ca6099",
   "metadata": {},
   "outputs": [
    {
     "name": "stdout",
     "output_type": "stream",
     "text": [
      "0    10\n",
      "1    11\n",
      "2    12\n",
      "3    13\n",
      "4    14\n",
      "5    15\n",
      "6    16\n",
      "7    17\n",
      "8    18\n",
      "9    19\n",
      "dtype: int64\n",
      "5    15\n",
      "6    16\n",
      "7    17\n",
      "8    18\n",
      "9    19\n",
      "dtype: int64\n"
     ]
    }
   ],
   "source": [
    "# pandas slicing\n",
    "s3 = pd.Series(np.arange(10,20))\n",
    "print(s3)\n",
    "#print(s3[3])\n",
    "#print(s3[3:7:2])\n",
    "#print(s3[[8,3,4,6]])    # list of indices\n",
    "print(s3[s3>14])         # bool list, filtering"
   ]
  },
  {
   "cell_type": "code",
   "execution_count": 31,
   "id": "4092ebdc",
   "metadata": {},
   "outputs": [
    {
     "name": "stdout",
     "output_type": "stream",
     "text": [
      "0    10\n",
      "1    11\n",
      "2    12\n",
      "3    13\n",
      "4    14\n",
      "5    15\n",
      "6    16\n",
      "7    17\n",
      "8    18\n",
      "9    19\n",
      "dtype: int64\n",
      "[10 11 12 13 14 15 16 17 18 19]\n",
      "[10 11 12 13 14 15 16 17 18 19]\n"
     ]
    }
   ],
   "source": [
    "# pd.Series 를 쓰다가 ndarray로 바꾸고 싶을 때 방법\n",
    "print(s3)\n",
    "print(s3.to_numpy())    # method\n",
    "print(s3.values)        # property"
   ]
  },
  {
   "cell_type": "code",
   "execution_count": 39,
   "id": "4fe667bd",
   "metadata": {},
   "outputs": [
    {
     "name": "stdout",
     "output_type": "stream",
     "text": [
      "e    20\n",
      "d    21\n",
      "c    22\n",
      "b    23\n",
      "a    24\n",
      "dtype: int64\n",
      "20\n",
      "e    20\n",
      "c    22\n",
      "dtype: int64\n",
      "a    24\n",
      "b    23\n",
      "c    22\n",
      "d    21\n",
      "e    20\n",
      "dtype: int64\n",
      "e    20\n",
      "d    21\n",
      "c    22\n",
      "b    23\n",
      "a    24\n",
      "dtype: int64\n"
     ]
    }
   ],
   "source": [
    "s4 = pd.Series(np.arange(20,25), index=list('edcba'))\n",
    "print(s4)\n",
    "print(s4['e'])\n",
    "print(s4['e':'b':2])\n",
    "print(s4.sort_index()) # index를 sort해서 순서를 맞춰준다.\n",
    "s5 = s4.sort_index()\n",
    "print(s5.sort_values()) # value를 기준으로 sort도 가능하다."
   ]
  },
  {
   "cell_type": "code",
   "execution_count": 53,
   "id": "f5fcf904",
   "metadata": {},
   "outputs": [
    {
     "name": "stdout",
     "output_type": "stream",
     "text": [
      "a    24\n",
      "b    23\n",
      "c    22\n",
      "d    21\n",
      "e    20\n",
      "dtype: int64\n",
      "a    120\n",
      "b    115\n",
      "c    110\n",
      "d    105\n",
      "e    100\n",
      "dtype: int64\n",
      "22.0\n",
      "22.0\n",
      "\n",
      "\n",
      "count     5.000000\n",
      "mean     22.000000\n",
      "std       1.581139\n",
      "min      20.000000\n",
      "25%      21.000000\n",
      "50%      22.000000\n",
      "75%      23.000000\n",
      "max      24.000000\n",
      "dtype: float64\n",
      "<class 'pandas.core.series.Series'>\n",
      "Index(['count', 'mean', 'std', 'min', '25%', '50%', '75%', 'max'], dtype='object')\n"
     ]
    }
   ],
   "source": [
    "print(s5)\n",
    "print(s5*5) # 사칙연산도 가능하다.\n",
    "print(np.mean(s5)) # numpy에 pandas Series를 던져줘도 된다.\n",
    "print(s5.mean()) # pandas의 method를 사용해도 된다.\n",
    "\n",
    "print('\\n')\n",
    "\n",
    "s5_descr = s5.describe() # 각각 찍어보던 것이 한꺼번에 던져준다.\n",
    "print(s5_descr)\n",
    "print(type(s5_descr))\n",
    "print(s5_descr.index)"
   ]
  },
  {
   "cell_type": "code",
   "execution_count": 63,
   "id": "b76d445b",
   "metadata": {},
   "outputs": [
    {
     "name": "stdout",
     "output_type": "stream",
     "text": [
      "e    20\n",
      "d    21\n",
      "c    22\n",
      "b    23\n",
      "a    24\n",
      "dtype: int64\n",
      "**************\n",
      "a    120\n",
      "b    115\n",
      "c    110\n",
      "d    105\n",
      "e    100\n",
      "dtype: int64\n",
      "**************\n",
      "0     20\n",
      "1     21\n",
      "2     22\n",
      "3     23\n",
      "4     24\n",
      "5    120\n",
      "6    115\n",
      "7    110\n",
      "8    105\n",
      "9    100\n",
      "dtype: int64\n"
     ]
    }
   ],
   "source": [
    "print(s4)\n",
    "print('**************')\n",
    "print(s5*5)\n",
    "print('**************')\n",
    "s6 = pd.concat((s4, s5*5), ignore_index=True) # tuple 형식으로 던져주면 axis = 0을 따라서 붙여준다.\n",
    "                                              # index가 중첩되는게 두개 씩 생긴다.\n",
    "                                              # ignore_index = True로 index를 새로 만들어 달라고 요청한다.\n",
    "\n",
    "print(s6)"
   ]
  },
  {
   "cell_type": "code",
   "execution_count": 72,
   "id": "98540127",
   "metadata": {},
   "outputs": [
    {
     "name": "stdout",
     "output_type": "stream",
     "text": [
      "0    1.0\n",
      "1    2.0\n",
      "2    3.0\n",
      "3    4.0\n",
      "4    NaN\n",
      "dtype: float64\n",
      "0    False\n",
      "1    False\n",
      "2    False\n",
      "3    False\n",
      "4     True\n",
      "dtype: bool\n",
      "0    1.0\n",
      "1    2.0\n",
      "2    3.0\n",
      "3    4.0\n",
      "dtype: float64\n",
      "0     1.0\n",
      "1    10.0\n",
      "2     3.0\n",
      "3     4.0\n",
      "4     NaN\n",
      "dtype: float64\n",
      "0    1.0\n",
      "1    2.0\n",
      "2    3.0\n",
      "3    4.0\n",
      "4    0.0\n",
      "dtype: float64\n",
      "0     1.0\n",
      "1     2.0\n",
      "2     3.0\n",
      "3     4.0\n",
      "4    10.0\n",
      "dtype: float64\n"
     ]
    }
   ],
   "source": [
    "# 결측치, 이상치 갈아끼우는 법\n",
    "s7 = pd.Series([1,2,3,4,np.NaN])    # Not a Number = NaN\n",
    "print(s7)\n",
    "print(s7.isna()) # 결측치를 찾는 방법 ==> NaN인지 bool으로 알려준다.\n",
    "print(s7.dropna()) # 결측치를 찾아서 그 인덱스와 값을 버려달라.\n",
    "print(s7.replace(2.0, 10.0)) # 결측치 뿐만아니라 특정한 값을 다른값으로 바꿔줄 때\n",
    "print(s7.replace(np.NaN, 0.0)) # 결측치를 버리지 않고, np.NaN으로 되어있는 값을 대신하여 바꿔달라.\n",
    "print(s7.fillna(10.0)) # 결측치를 버리지 않고, np.NaN으로 되어있는 새로운 값을 끼워넣어달라."
   ]
  }
 ],
 "metadata": {
  "kernelspec": {
   "display_name": "Python 3 (ipykernel)",
   "language": "python",
   "name": "python3"
  },
  "language_info": {
   "codemirror_mode": {
    "name": "ipython",
    "version": 3
   },
   "file_extension": ".py",
   "mimetype": "text/x-python",
   "name": "python",
   "nbconvert_exporter": "python",
   "pygments_lexer": "ipython3",
   "version": "3.10.6"
  }
 },
 "nbformat": 4,
 "nbformat_minor": 5
}
