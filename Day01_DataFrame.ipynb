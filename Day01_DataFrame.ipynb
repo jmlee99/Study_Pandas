{
 "cells": [
  {
   "cell_type": "code",
   "execution_count": 1,
   "id": "7fe03abd",
   "metadata": {},
   "outputs": [
    {
     "name": "stdout",
     "output_type": "stream",
     "text": [
      "       0    1    2    3               4\n",
      "0    5.1  3.5  1.4  0.2     Iris-setosa\n",
      "1    4.9  3.0  1.4  0.2     Iris-setosa\n",
      "2    4.7  3.2  1.3  0.2     Iris-setosa\n",
      "3    4.6  3.1  1.5  0.2     Iris-setosa\n",
      "4    5.0  3.6  1.4  0.2     Iris-setosa\n",
      "..   ...  ...  ...  ...             ...\n",
      "145  6.7  3.0  5.2  2.3  Iris-virginica\n",
      "146  6.3  2.5  5.0  1.9  Iris-virginica\n",
      "147  6.5  3.0  5.2  2.0  Iris-virginica\n",
      "148  6.2  3.4  5.4  2.3  Iris-virginica\n",
      "149  5.9  3.0  5.1  1.8  Iris-virginica\n",
      "\n",
      "[150 rows x 5 columns]\n"
     ]
    }
   ],
   "source": [
    "import numpy as np\n",
    "import pandas as pd\n",
    "\n",
    "url = 'https://archive.ics.uci.edu/ml/machine-learning-databases/iris/iris.data'\n",
    "iris_df = pd.read_csv(url, header = None)\n",
    "print(iris_df)"
   ]
  },
  {
   "cell_type": "code",
   "execution_count": 4,
   "id": "591af808",
   "metadata": {},
   "outputs": [
    {
     "name": "stdout",
     "output_type": "stream",
     "text": [
      "        a     b\n",
      "0    10.0   NaN\n",
      "1    11.0   NaN\n",
      "2    12.0   NaN\n",
      "3    13.0   NaN\n",
      "4    14.0   NaN\n",
      "100   NaN  20.0\n",
      "101   NaN  21.0\n",
      "102   NaN  22.0\n",
      "103   NaN  23.0\n",
      "104   NaN  24.0\n"
     ]
    }
   ],
   "source": [
    "s1 = pd.Series(np.arange(10, 15), index = np.arange(5))\n",
    "s2 = pd.Series(np.arange(20, 25), index = np.arange(100,105))\n",
    "df1 = pd.DataFrame({'a':s1, 'b':s2})\n",
    "print(df1)"
   ]
  },
  {
   "cell_type": "code",
   "execution_count": 8,
   "id": "694cbd8d",
   "metadata": {},
   "outputs": [
    {
     "name": "stdout",
     "output_type": "stream",
     "text": [
      "Int64Index([0, 1, 2, 3, 4, 100, 101, 102, 103, 104], dtype='int64')\n",
      "Index(['a', 'b'], dtype='object')\n",
      "     col_A  col_B\n",
      "0     10.0    NaN\n",
      "1     11.0    NaN\n",
      "2     12.0    NaN\n",
      "3     13.0    NaN\n",
      "4     14.0    NaN\n",
      "100    NaN   20.0\n",
      "101    NaN   21.0\n",
      "102    NaN   22.0\n",
      "103    NaN   23.0\n",
      "104    NaN   24.0\n"
     ]
    }
   ],
   "source": [
    "print(df1.index) # 행\n",
    "print(df1.columns) # 열\n",
    "df1.columns = ['col_A', 'col_B']\n",
    "print(df1)"
   ]
  },
  {
   "cell_type": "code",
   "execution_count": 20,
   "id": "00222a47",
   "metadata": {},
   "outputs": [
    {
     "name": "stdout",
     "output_type": "stream",
     "text": [
      "     col_A  col_B\n",
      "0     10.0    NaN\n",
      "1     11.0    NaN\n",
      "2     12.0    NaN\n",
      "3     13.0    NaN\n",
      "4     14.0    NaN\n",
      "100    NaN   20.0\n",
      "101    NaN   21.0\n",
      "102    NaN   22.0\n",
      "103    NaN   23.0\n",
      "104    NaN   24.0\n",
      "***************\n",
      "col_A\n",
      "col_B\n",
      "***************\n",
      "0      10.0\n",
      "1      11.0\n",
      "2      12.0\n",
      "3      13.0\n",
      "4      14.0\n",
      "100     NaN\n",
      "101     NaN\n",
      "102     NaN\n",
      "103     NaN\n",
      "104     NaN\n",
      "Name: col_A, dtype: float64\n",
      "***************\n",
      "     col_A  col_B\n",
      "2     12.0    NaN\n",
      "3     13.0    NaN\n",
      "4     14.0    NaN\n",
      "100    NaN   20.0\n",
      "101    NaN   21.0\n",
      "102    NaN   22.0\n",
      "103    NaN   23.0\n",
      "104    NaN   24.0\n",
      "***************\n",
      "0      10.0\n",
      "1      11.0\n",
      "2      12.0\n",
      "3      13.0\n",
      "4      14.0\n",
      "100     NaN\n",
      "101     NaN\n",
      "102     NaN\n",
      "103     NaN\n",
      "104     NaN\n",
      "Name: col_A, dtype: float64\n",
      "***************\n",
      "2      12.0\n",
      "3      13.0\n",
      "4      14.0\n",
      "100     NaN\n",
      "101     NaN\n",
      "102     NaN\n",
      "Name: col_A, dtype: float64\n",
      "***************\n",
      "     col_A  col_B\n",
      "2     12.0    NaN\n",
      "3     13.0    NaN\n",
      "4     14.0    NaN\n",
      "100    NaN   20.0\n",
      "101    NaN   21.0\n",
      "102    NaN   22.0\n",
      "103    NaN   23.0\n",
      "104    NaN   24.0\n"
     ]
    }
   ],
   "source": [
    "print(df1)\n",
    "print('***************')\n",
    "for i in df1: # 순환을 하면 columns값으로 순환을 한다.\n",
    "    print(i)\n",
    "print('***************')\n",
    "print(df1['col_A'])   # columns으로 불러오는 것은 가능하다.\n",
    "#print(df1['col_A':'col_B']) # 이렇게 범위를 부르면 error가 난다.\n",
    "#print(df1[1]) # 하나의 값을 줄때도 index를 주면 안되고 columns값을 줘야한다.\n",
    "print('***************')\n",
    "print(df1[2:102]) # 범위를 줄꺼면 row의 index를 줘야한다.\n",
    "print('***************')\n",
    "print(df1.loc[:, 'col_A']) # row는 : (전체) columns는 col_A만\n",
    "print('***************')\n",
    "print(df1.loc[2:102, 'col_A'])\n",
    "print('***************')\n",
    "print(df1.iloc[2:102, 0:]) # iloc는 i == index로 주세요라고 하는것이다. 'col_A' == 0으로 해야한다. 무조건 숫자."
   ]
  },
  {
   "cell_type": "code",
   "execution_count": null,
   "id": "79d0c4ba",
   "metadata": {},
   "outputs": [],
   "source": []
  }
 ],
 "metadata": {
  "kernelspec": {
   "display_name": "Python 3 (ipykernel)",
   "language": "python",
   "name": "python3"
  },
  "language_info": {
   "codemirror_mode": {
    "name": "ipython",
    "version": 3
   },
   "file_extension": ".py",
   "mimetype": "text/x-python",
   "name": "python",
   "nbconvert_exporter": "python",
   "pygments_lexer": "ipython3",
   "version": "3.10.6"
  }
 },
 "nbformat": 4,
 "nbformat_minor": 5
}
