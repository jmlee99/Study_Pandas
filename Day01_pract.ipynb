{
 "cells": [
  {
   "cell_type": "code",
   "execution_count": 2,
   "id": "e55708a7",
   "metadata": {},
   "outputs": [
    {
     "name": "stdout",
     "output_type": "stream",
     "text": [
      "       건강증진센터명 건강증진센터구분               소재지도로명주소                   소재지지번주소  \\\n",
      "0     맞춤형건강클리닉     건강증진      인천광역시 연수구 함박뫼로 13       인천광역시 연수구 청학동 465-4   \n",
      "1     정신건강복지센터     정신보건   경상북도 청송군 청송읍 의료원길 19  경상북도 청송군 청송읍 금곡리 1056-54   \n",
      "2   중구정신건강복지센터     정신보건   인천광역시 중구 참외전로72번길 21           인천광역시 중구 전동 2-1   \n",
      "3  의령군정신건강복지센터     정신보건  경상남도 의령군 의령읍 의병로8길 16      경상남도 의령군 의령읍 서동리 534   \n",
      "4  고성군정신건강복지센터     정신보건     강원도 고성군 간성읍 수성로 30       강원도 고성군 간성읍 신안리 178   \n",
      "\n",
      "          위도          경도                                           건강증진업무내용  \\\n",
      "0  37.419132  126.671161          치매검진, 당뇨.고혈압 상담 및 검사, 뇌경색.심뇌혈관질환, 정신건강 상담   \n",
      "1  36.431132  129.051804          중증정신질환자 관리+정신건강증진사업+아동청소년 정신건강증진사업+자살예방사업   \n",
      "2  37.477217  126.629108                        정신건강사업+생명피움사업+종합자가검진 및 상담제공   \n",
      "3  35.317820  128.254769  정신질환 예방ㆍ상담ㆍ치료연계+정신질환자 주간재활프로그램 운영+자살예방 및 정신건강증...   \n",
      "4  38.377617  128.472194                                        자살예방+정신건강증진   \n",
      "\n",
      "  운영시작시각 운영종료시각     휴무일정보  ...  영양사수            기타인력현황  \\\n",
      "0  09:00  18:00  일요일, 공휴일  ...   0.0                 0   \n",
      "1  09:00  17:00   토+일+공휴일  ...   0.0                 0   \n",
      "2  09:00  18:00   토+일+공휴일  ...   0.0  작업치료사(2)+행정요원(1)   \n",
      "3  09:00  18:00   토+일+공휴일  ...   0.0                 0   \n",
      "4  09:00  18:00       공휴일  ...   0.0            보건직(1)   \n",
      "\n",
      "                           기타이용안내      운영기관전화번호           운영기관명      관리기관전화번호  \\\n",
      "0  검사전날 오후8시 전까지 식사마치고 검사당일 아침 금식  032-749-8104        맞춤형건강클리닉  032-749-8122   \n",
      "1                             NaN  054-870-7362  경상북도 청송군 보건의료원  054-870-7361   \n",
      "2      전화 예약 후 내소 / 전화 및 온라인상담 가능  032-760-6090   인하대학교의과대학부속병원  032-760-6062   \n",
      "3         정신건강위기상담전화 운영 1577-0199  055-570-4091          의령군보건소  055-570-4022   \n",
      "4                             NaN  033-680-4001      강원도 고성군보건소  033-680-3541   \n",
      "\n",
      "            관리기관명     데이터기준일자   제공기관코드      제공기관명  \n",
      "0   인천광역시 연수구 보건소  2021-10-25  3520000  인천광역시 연수구  \n",
      "1  경상북도 청송군 보건의료원  2022-12-09  5160000   경상북도 청송군  \n",
      "2     인천광역시 중구보건소  2022-11-29  3490000   인천광역시 중구  \n",
      "3       경상남도 의령군청  2022-12-05  5390000   경상남도 의령군  \n",
      "4      강원도 고성군보건소  2022-12-01  4340000    강원도 고성군  \n",
      "\n",
      "[5 rows x 24 columns]\n"
     ]
    }
   ],
   "source": [
    "import numpy as np\n",
    "import pandas as pd\n",
    "import matplotlib.pyplot as plt\n",
    "\n",
    "pd_data = pd.read_csv('전국건강증진센터표준데이터.csv', encoding='cp949')\n",
    "print(pd_data.head())"
   ]
  },
  {
   "cell_type": "code",
   "execution_count": 5,
   "id": "1ce5b275",
   "metadata": {},
   "outputs": [
    {
     "name": "stdout",
     "output_type": "stream",
     "text": [
      "0 건강증진센터명\n",
      "1 건강증진센터구분\n",
      "2 소재지도로명주소\n",
      "3 소재지지번주소\n",
      "4 위도\n",
      "5 경도\n",
      "6 건강증진업무내용\n",
      "7 운영시작시각\n",
      "8 운영종료시각\n",
      "9 휴무일정보\n",
      "10 건물면적\n",
      "11 의사수\n",
      "12 간호사수\n",
      "13 사회복지사수\n",
      "14 영양사수\n",
      "15 기타인력현황\n",
      "16 기타이용안내\n",
      "17 운영기관전화번호\n",
      "18 운영기관명\n",
      "19 관리기관전화번호\n",
      "20 관리기관명\n",
      "21 데이터기준일자\n",
      "22 제공기관코드\n",
      "23 제공기관명\n"
     ]
    }
   ],
   "source": [
    "for i, n in enumerate(pd_data.columns):\n",
    "    print(i, n)"
   ]
  },
  {
   "cell_type": "code",
   "execution_count": 14,
   "id": "9ec1ef87",
   "metadata": {},
   "outputs": [],
   "source": [
    "# 전국건강증진센터에서 의료인이 없는 곳은 몇군대인가\n",
    "# pd_data[['의사수', '간호사수']]\n",
    "# pd_data.loc[:, ['의사수', '간호사수']]\n",
    "# pd_data.iloc[:, [11, 12]]\n",
    "# pd_data.iloc[:, 11:13]\n",
    "df1 = pd_data.loc[:, '의사수':'간호사수']"
   ]
  },
  {
   "cell_type": "code",
   "execution_count": 24,
   "id": "e7826d5d",
   "metadata": {},
   "outputs": [
    {
     "name": "stdout",
     "output_type": "stream",
     "text": [
      "     의사수  간호사수\n",
      "0      0     5\n",
      "1      0     4\n",
      "2      1     5\n",
      "3      0     6\n",
      "4      0     4\n",
      "..   ...   ...\n",
      "290    0     0\n",
      "291    1     1\n",
      "292    1     0\n",
      "293    0     3\n",
      "294    1    13\n",
      "\n",
      "[295 rows x 2 columns]\n",
      "*****************\n",
      "의사수     int64\n",
      "간호사수    int64\n",
      "dtype: object\n",
      "*****************\n",
      "0       5\n",
      "1       4\n",
      "2       6\n",
      "3       6\n",
      "4       4\n",
      "       ..\n",
      "290     0\n",
      "291     2\n",
      "292     1\n",
      "293     3\n",
      "294    14\n",
      "Length: 295, dtype: int64\n",
      "*****************\n",
      "count    295.000000\n",
      "mean       3.433898\n",
      "std        3.401911\n",
      "min        0.000000\n",
      "25%        1.000000\n",
      "50%        2.000000\n",
      "75%        5.000000\n",
      "max       18.000000\n",
      "dtype: float64\n"
     ]
    }
   ],
   "source": [
    "print(df1)\n",
    "print('*****************')\n",
    "print(df1.dtypes) # dtypes로 해야 받아준다.\n",
    "print('*****************')\n",
    "s_sum = df1['의사수'] + df1['간호사수']\n",
    "print(s_sum) # 이것도 Series로 나온다.\n",
    "print('*****************')\n",
    "print(s_sum.describe()) # mean 이랑 50%가 차이가 많이 나지 않으면 outlier가 많지 않다는 것이다."
   ]
  },
  {
   "cell_type": "code",
   "execution_count": 29,
   "id": "991c9415",
   "metadata": {},
   "outputs": [
    {
     "name": "stdout",
     "output_type": "stream",
     "text": [
      "2     54\n",
      "1     53\n",
      "0     43\n",
      "3     36\n",
      "4     31\n",
      "5     19\n",
      "6     19\n",
      "7     10\n",
      "8      7\n",
      "10     6\n",
      "16     4\n",
      "13     3\n",
      "9      3\n",
      "14     3\n",
      "12     2\n",
      "11     1\n",
      "18     1\n",
      "dtype: int64\n",
      "0     43\n",
      "1     53\n",
      "2     54\n",
      "3     36\n",
      "4     31\n",
      "5     19\n",
      "6     19\n",
      "7     10\n",
      "8      7\n",
      "9      3\n",
      "10     6\n",
      "11     1\n",
      "12     2\n",
      "13     3\n",
      "14     3\n",
      "16     4\n",
      "18     1\n",
      "dtype: int64\n"
     ]
    },
    {
     "data": {
      "text/plain": [
       "[<matplotlib.lines.Line2D at 0x7f9164b80400>]"
      ]
     },
     "execution_count": 29,
     "metadata": {},
     "output_type": "execute_result"
    },
    {
     "data": {
      "image/png": "[encoded data removed]",
      "text/plain": [
       "<Figure size 432x288 with 1 Axes>"
      ]
     },
     "metadata": {
      "needs_background": "light"
     },
     "output_type": "display_data"
    }
   ],
   "source": [
    "cnt = s_sum.value_counts() # value : counts\n",
    "print(cnt)\n",
    "# index값으로 정렬하면 된다.(index == 의사 + 간호사, value == 몇군대)\n",
    "print(cnt.sort_index())\n",
    "_, axe = plt.subplots()\n",
    "axe.plot(cnt.sort_index())"
   ]
  },
  {
   "cell_type": "code",
   "execution_count": 30,
   "id": "cd4be7f9",
   "metadata": {},
   "outputs": [
    {
     "name": "stdout",
     "output_type": "stream",
     "text": [
      "     사회복지사수  영양사수\n",
      "0         0   0.0\n",
      "1         1   0.0\n",
      "2        12   0.0\n",
      "3         1   0.0\n",
      "4         1   0.0\n",
      "..      ...   ...\n",
      "290       0   0.0\n",
      "291       0   0.0\n",
      "292       7   0.0\n",
      "293       0   1.0\n",
      "294       2   NaN\n",
      "\n",
      "[295 rows x 2 columns]\n"
     ]
    }
   ],
   "source": [
    "df2 = pd_data.loc[:, '사회복지사수':'영양사수']\n",
    "print(df2)"
   ]
  },
  {
   "cell_type": "code",
   "execution_count": 44,
   "id": "36507a73",
   "metadata": {},
   "outputs": [
    {
     "name": "stdout",
     "output_type": "stream",
     "text": [
      "count    295.000000\n",
      "mean       5.355932\n",
      "std        6.436933\n",
      "min        0.000000\n",
      "25%        1.000000\n",
      "50%        3.000000\n",
      "75%        8.000000\n",
      "max       42.000000\n",
      "dtype: float64\n",
      "0.0     50\n",
      "1.0     67\n",
      "2.0     30\n",
      "3.0     16\n",
      "4.0     11\n",
      "5.0     10\n",
      "6.0     15\n",
      "7.0     15\n",
      "8.0     13\n",
      "9.0      6\n",
      "10.0    10\n",
      "11.0     7\n",
      "12.0     9\n",
      "13.0     6\n",
      "14.0     4\n",
      "15.0     6\n",
      "16.0     2\n",
      "17.0     2\n",
      "18.0     3\n",
      "19.0     2\n",
      "20.0     2\n",
      "21.0     3\n",
      "23.0     1\n",
      "27.0     1\n",
      "31.0     1\n",
      "32.0     1\n",
      "33.0     1\n",
      "42.0     1\n",
      "dtype: int64\n"
     ]
    },
    {
     "data": {
      "text/plain": [
       "[<matplotlib.lines.Line2D at 0x7f9164a3c760>]"
      ]
     },
     "execution_count": 44,
     "metadata": {},
     "output_type": "execute_result"
    },
    {
     "data": {
      "image/png": "[encoded data removed]",
      "text/plain": [
       "<Figure size 432x288 with 1 Axes>"
      ]
     },
     "metadata": {
      "needs_background": "light"
     },
     "output_type": "display_data"
    }
   ],
   "source": [
    "df2 = df2.replace(np.NaN, 0.0)\n",
    "Ser_sum = df2['사회복지사수'] + df2['영양사수']\n",
    "#print(Ser_sum)\n",
    "\n",
    "print(Ser_sum.describe())\n",
    "cnt1 = Ser_sum.value_counts()\n",
    "print(cnt1.sort_index())\n",
    "\n",
    "_,axe = plt.subplots()\n",
    "axe.plot(cnt1.sort_index())"
   ]
  },
  {
   "cell_type": "code",
   "execution_count": 49,
   "id": "ca415c46",
   "metadata": {},
   "outputs": [
    {
     "name": "stdout",
     "output_type": "stream",
     "text": [
      "56    42.0\n",
      "dtype: float64\n",
      "***********************************************************\n",
      "        건강증진센터명 건강증진센터구분         소재지도로명주소            소재지지번주소         위도  \\\n",
      "56  부천시정신건강복지센터     정신보건  경기도 부천시 성오로 172  경기도 부천시 오정동 129번지  37.528349   \n",
      "\n",
      "            경도                                 건강증진업무내용 운영시작시각 운영종료시각  \\\n",
      "56  126.796026  중증정신질환자관리사업+아동청소년정신보건사업+자살예방사업+정신건강증진사업  09:00  18:00   \n",
      "\n",
      "          휴무일정보  ...  영양사수  기타인력현황  기타이용안내      운영기관전화번호       운영기관명  \\\n",
      "56  토요일+일요일+공휴일  ...   0.0       5     NaN  032-654-4024  순천향대학교부천병원   \n",
      "\n",
      "        관리기관전화번호   관리기관명     데이터기준일자   제공기관코드    제공기관명  \n",
      "56  032-625-4131  부천시보건소  2022-05-31  3860000  경기도 부천시  \n",
      "\n",
      "[1 rows x 24 columns]\n"
     ]
    }
   ],
   "source": [
    " # 가장 많은 사회복지사 + 영양사 가 있는 곳의 index\n",
    "    \n",
    "print(Ser_sum[Ser_sum==42.0])\n",
    "print('***********************************************************')\n",
    "\n",
    "filter1 = Ser_sum == 42.0\n",
    "print(pd_data[filter1])"
   ]
  }
 ],
 "metadata": {
  "kernelspec": {
   "display_name": "Python 3 (ipykernel)",
   "language": "python",
   "name": "python3"
  },
  "language_info": {
   "codemirror_mode": {
    "name": "ipython",
    "version": 3
   },
   "file_extension": ".py",
   "mimetype": "text/x-python",
   "name": "python",
   "nbconvert_exporter": "python",
   "pygments_lexer": "ipython3",
   "version": "3.10.6"
  }
 },
 "nbformat": 4,
 "nbformat_minor": 5
}
